{
 "cells": [
  {
   "cell_type": "markdown",
   "metadata": {},
   "source": [
    "# 문서 군집화 - Opinion Review dataset"
   ]
  },
  {
   "cell_type": "code",
   "execution_count": 1,
   "metadata": {},
   "outputs": [
    {
     "data": {
      "text/plain": [
       "'OpinosisDataset1.0/topics\\\\*.data'"
      ]
     },
     "execution_count": 1,
     "metadata": {},
     "output_type": "execute_result"
    }
   ],
   "source": [
    "import pandas as pd\n",
    "import glob, os \n",
    "\n",
    "path = 'OpinosisDataset1.0/topics'\n",
    "os.path.join(path, '*.data') # Windows - \\\\, Mac - /"
   ]
  },
  {
   "cell_type": "code",
   "execution_count": 2,
   "metadata": {},
   "outputs": [
    {
     "data": {
      "text/plain": [
       "['OpinosisDataset1.0/topics\\\\accuracy_garmin_nuvi_255W_gps.txt.data',\n",
       " 'OpinosisDataset1.0/topics\\\\bathroom_bestwestern_hotel_sfo.txt.data',\n",
       " 'OpinosisDataset1.0/topics\\\\battery-life_amazon_kindle.txt.data',\n",
       " 'OpinosisDataset1.0/topics\\\\battery-life_ipod_nano_8gb.txt.data',\n",
       " 'OpinosisDataset1.0/topics\\\\battery-life_netbook_1005ha.txt.data']"
      ]
     },
     "execution_count": 2,
     "metadata": {},
     "output_type": "execute_result"
    }
   ],
   "source": [
    "all_files = glob.glob(os.path.join(path, '*.data'))\n",
    "all_files[:5]"
   ]
  },
  {
   "cell_type": "code",
   "execution_count": 3,
   "metadata": {},
   "outputs": [
    {
     "data": {
      "text/plain": [
       "'OpinosisDataset1.0/topics\\\\accuracy_garmin_nuvi_255W_gps.txt.data'"
      ]
     },
     "execution_count": 3,
     "metadata": {},
     "output_type": "execute_result"
    }
   ],
   "source": [
    "file = all_files[0]\n",
    "file"
   ]
  },
  {
   "cell_type": "code",
   "execution_count": 4,
   "metadata": {},
   "outputs": [
    {
     "data": {
      "text/plain": [
       "'accuracy_garmin_nuvi_255W_gps'"
      ]
     },
     "execution_count": 4,
     "metadata": {},
     "output_type": "execute_result"
    }
   ],
   "source": [
    "file.split('\\\\')[-1].split('.')[0]"
   ]
  },
  {
   "cell_type": "code",
   "execution_count": 5,
   "metadata": {},
   "outputs": [
    {
     "data": {
      "text/html": [
       "<div>\n",
       "<style scoped>\n",
       "    .dataframe tbody tr th:only-of-type {\n",
       "        vertical-align: middle;\n",
       "    }\n",
       "\n",
       "    .dataframe tbody tr th {\n",
       "        vertical-align: top;\n",
       "    }\n",
       "\n",
       "    .dataframe thead th {\n",
       "        text-align: right;\n",
       "    }\n",
       "</style>\n",
       "<table border=\"1\" class=\"dataframe\">\n",
       "  <thead>\n",
       "    <tr style=\"text-align: right;\">\n",
       "      <th></th>\n",
       "      <th>filename</th>\n",
       "      <th>opinion</th>\n",
       "    </tr>\n",
       "  </thead>\n",
       "  <tbody>\n",
       "    <tr>\n",
       "      <th>0</th>\n",
       "      <td>accuracy_garmin_nuvi_255W_gps</td>\n",
       "      <td>, and is very, very accurate .\\n but for the m...</td>\n",
       "    </tr>\n",
       "    <tr>\n",
       "      <th>1</th>\n",
       "      <td>bathroom_bestwestern_hotel_sfo</td>\n",
       "      <td>The room was not overly big, but clean and ve...</td>\n",
       "    </tr>\n",
       "    <tr>\n",
       "      <th>2</th>\n",
       "      <td>battery-life_amazon_kindle</td>\n",
       "      <td>After I plugged it in to my USB hub on my com...</td>\n",
       "    </tr>\n",
       "  </tbody>\n",
       "</table>\n",
       "</div>"
      ],
      "text/plain": [
       "                         filename  \\\n",
       "0   accuracy_garmin_nuvi_255W_gps   \n",
       "1  bathroom_bestwestern_hotel_sfo   \n",
       "2      battery-life_amazon_kindle   \n",
       "\n",
       "                                             opinion  \n",
       "0  , and is very, very accurate .\\n but for the m...  \n",
       "1   The room was not overly big, but clean and ve...  \n",
       "2   After I plugged it in to my USB hub on my com...  "
      ]
     },
     "execution_count": 5,
     "metadata": {},
     "output_type": "execute_result"
    }
   ],
   "source": [
    "filename_list = []\n",
    "opinion_text = []\n",
    "for file in glob.glob(os.path.join(path, '*.data')):\n",
    "    with open(file, encoding='latin1') as f:\n",
    "        text = f.read()\n",
    "    opinion_text.append(text)\n",
    "    filename = file.split('\\\\')[-1].split('.')[0]\n",
    "    filename_list.append(filename)\n",
    "\n",
    "df = pd.DataFrame({'filename':filename_list, 'opinion':opinion_text})\n",
    "df.head(3)"
   ]
  },
  {
   "cell_type": "markdown",
   "metadata": {},
   "source": [
    "- Simple tokenizer"
   ]
  },
  {
   "cell_type": "code",
   "execution_count": 6,
   "metadata": {},
   "outputs": [],
   "source": [
    "from nltk import word_tokenize\n",
    "\n",
    "def simple_tokenizer(text):              # 글자수가 2개 이하인 토큰은 제거\n",
    "    return [word for word in word_tokenize(text) if len(word) > 2]"
   ]
  },
  {
   "cell_type": "code",
   "execution_count": 7,
   "metadata": {},
   "outputs": [],
   "source": [
    "from sklearn.feature_extraction.text import TfidfVectorizer\n",
    "\n",
    "tvect = TfidfVectorizer(tokenizer=simple_tokenizer, stop_words='english',\n",
    "                        ngram_range=(1,2), min_df=0.05, max_df=0.85)\n",
    "feature = tvect.fit_transform(df.opinion)"
   ]
  },
  {
   "cell_type": "markdown",
   "metadata": {},
   "source": [
    "* 군집화"
   ]
  },
  {
   "cell_type": "code",
   "execution_count": 8,
   "metadata": {},
   "outputs": [
    {
     "data": {
      "text/plain": [
       "KMeans(max_iter=10000, n_clusters=5, random_state=2022)"
      ]
     },
     "execution_count": 8,
     "metadata": {},
     "output_type": "execute_result"
    }
   ],
   "source": [
    "from sklearn.cluster import KMeans\n",
    "\n",
    "kmeans = KMeans(n_clusters=5, max_iter=10000, random_state=2022)\n",
    "kmeans.fit(feature)"
   ]
  },
  {
   "cell_type": "code",
   "execution_count": 9,
   "metadata": {},
   "outputs": [
    {
     "data": {
      "text/html": [
       "<div>\n",
       "<style scoped>\n",
       "    .dataframe tbody tr th:only-of-type {\n",
       "        vertical-align: middle;\n",
       "    }\n",
       "\n",
       "    .dataframe tbody tr th {\n",
       "        vertical-align: top;\n",
       "    }\n",
       "\n",
       "    .dataframe thead th {\n",
       "        text-align: right;\n",
       "    }\n",
       "</style>\n",
       "<table border=\"1\" class=\"dataframe\">\n",
       "  <thead>\n",
       "    <tr style=\"text-align: right;\">\n",
       "      <th></th>\n",
       "      <th>filename</th>\n",
       "      <th>opinion</th>\n",
       "      <th>cluster</th>\n",
       "    </tr>\n",
       "  </thead>\n",
       "  <tbody>\n",
       "    <tr>\n",
       "      <th>0</th>\n",
       "      <td>accuracy_garmin_nuvi_255W_gps</td>\n",
       "      <td>, and is very, very accurate .\\n but for the m...</td>\n",
       "      <td>0</td>\n",
       "    </tr>\n",
       "    <tr>\n",
       "      <th>1</th>\n",
       "      <td>bathroom_bestwestern_hotel_sfo</td>\n",
       "      <td>The room was not overly big, but clean and ve...</td>\n",
       "      <td>2</td>\n",
       "    </tr>\n",
       "    <tr>\n",
       "      <th>2</th>\n",
       "      <td>battery-life_amazon_kindle</td>\n",
       "      <td>After I plugged it in to my USB hub on my com...</td>\n",
       "      <td>1</td>\n",
       "    </tr>\n",
       "    <tr>\n",
       "      <th>3</th>\n",
       "      <td>battery-life_ipod_nano_8gb</td>\n",
       "      <td>short battery life  I moved up from an 8gb .\\...</td>\n",
       "      <td>1</td>\n",
       "    </tr>\n",
       "    <tr>\n",
       "      <th>4</th>\n",
       "      <td>battery-life_netbook_1005ha</td>\n",
       "      <td>6GHz 533FSB cpu, glossy display, 3, Cell 23Wh ...</td>\n",
       "      <td>1</td>\n",
       "    </tr>\n",
       "  </tbody>\n",
       "</table>\n",
       "</div>"
      ],
      "text/plain": [
       "                         filename  \\\n",
       "0   accuracy_garmin_nuvi_255W_gps   \n",
       "1  bathroom_bestwestern_hotel_sfo   \n",
       "2      battery-life_amazon_kindle   \n",
       "3      battery-life_ipod_nano_8gb   \n",
       "4     battery-life_netbook_1005ha   \n",
       "\n",
       "                                             opinion  cluster  \n",
       "0  , and is very, very accurate .\\n but for the m...        0  \n",
       "1   The room was not overly big, but clean and ve...        2  \n",
       "2   After I plugged it in to my USB hub on my com...        1  \n",
       "3   short battery life  I moved up from an 8gb .\\...        1  \n",
       "4  6GHz 533FSB cpu, glossy display, 3, Cell 23Wh ...        1  "
      ]
     },
     "execution_count": 9,
     "metadata": {},
     "output_type": "execute_result"
    }
   ],
   "source": [
    "df['cluster'] = kmeans.labels_\n",
    "df.head()"
   ]
  },
  {
   "cell_type": "code",
   "execution_count": 10,
   "metadata": {},
   "outputs": [
    {
     "data": {
      "text/plain": [
       "2    16\n",
       "3    13\n",
       "4    10\n",
       "0     7\n",
       "1     5\n",
       "Name: cluster, dtype: int64"
      ]
     },
     "execution_count": 10,
     "metadata": {},
     "output_type": "execute_result"
    }
   ],
   "source": [
    "df.cluster.value_counts()"
   ]
  },
  {
   "cell_type": "code",
   "execution_count": 11,
   "metadata": {},
   "outputs": [
    {
     "data": {
      "text/plain": [
       "2    16\n",
       "3    13\n",
       "4    10\n",
       "0     7\n",
       "1     5\n",
       "Name: cluster, dtype: int64"
      ]
     },
     "execution_count": 11,
     "metadata": {},
     "output_type": "execute_result"
    }
   ],
   "source": [
    "# 3개의 집합으로 군집화 \n",
    "kmeans = KMeans(n_clusters=3, max_iter=10000, random_state=2022)\n",
    "kmeans.fit(feature)\n",
    "df['cluster_label'] = kmeans.labels_\n",
    "df.cluster.value_counts()\n"
   ]
  },
  {
   "cell_type": "markdown",
   "metadata": {},
   "source": [
    "* 군집별 핵심단어 추출하기"
   ]
  },
  {
   "cell_type": "code",
   "execution_count": 12,
   "metadata": {},
   "outputs": [
    {
     "data": {
      "text/plain": [
       "(51, 4154)"
      ]
     },
     "execution_count": 12,
     "metadata": {},
     "output_type": "execute_result"
    }
   ],
   "source": [
    "feature.shape"
   ]
  },
  {
   "cell_type": "code",
   "execution_count": 13,
   "metadata": {},
   "outputs": [
    {
     "data": {
      "text/plain": [
       "(3, 4154)"
      ]
     },
     "execution_count": 13,
     "metadata": {},
     "output_type": "execute_result"
    }
   ],
   "source": [
    "cluster_centers = kmeans.cluster_centers_\n",
    "cluster_centers.shape"
   ]
  },
  {
   "cell_type": "code",
   "execution_count": 14,
   "metadata": {},
   "outputs": [],
   "source": [
    "from cluster import get_cluster_details\n",
    "\n",
    "feature_names = tvect.get_feature_names()\n",
    "cluster_details = get_cluster_details(cluster_model=kmeans, cluster_data=df, \n",
    "                                        feature_names=feature_names, clusters_num=3, top_n_features=10)"
   ]
  },
  {
   "cell_type": "code",
   "execution_count": 15,
   "metadata": {},
   "outputs": [
    {
     "name": "stdout",
     "output_type": "stream",
     "text": [
      "####### Cluster 0\n",
      "Top features: ['screen', 'battery', 'battery life', 'keyboard', 'kindle', 'life', 'directions', 'size', 'voice', 'speed']\n",
      "Reviews 파일명: ['accuracy_garmin_nuvi_255W_gps', 'battery-life_amazon_kindle', 'battery-life_ipod_nano_8gb', 'battery-life_netbook_1005ha', 'buttons_amazon_kindle', 'directions_garmin_nuvi_255W_gps', 'display_garmin_nuvi_255W_gps']\n",
      "==================================================\n",
      "####### Cluster 1\n",
      "Top features: ['hotel', 'service', 'rooms', 'staff', 'room', 'food', 'location', 'clean', 'bathroom', 'parking']\n",
      "Reviews 파일명: ['bathroom_bestwestern_hotel_sfo', 'food_holiday_inn_london', 'food_swissotel_chicago', 'free_bestwestern_hotel_sfo', 'location_bestwestern_hotel_sfo', 'location_holiday_inn_london', 'parking_bestwestern_hotel_sfo']\n",
      "==================================================\n",
      "####### Cluster 2\n",
      "Top features: ['interior', 'mileage', 'seats', 'comfortable', 'gas', 'gas mileage', 'transmission', 'car', 'performance', 'quality']\n",
      "Reviews 파일명: ['comfort_honda_accord_2008', 'comfort_toyota_camry_2007', 'gas_mileage_toyota_camry_2007', 'interior_honda_accord_2008', 'interior_toyota_camry_2007', 'mileage_honda_accord_2008', 'performance_honda_accord_2008']\n",
      "==================================================\n"
     ]
    }
   ],
   "source": [
    "for cluster_num, cluster_detail in cluster_details.items():\n",
    "    print(f'####### Cluster {cluster_num}')\n",
    "    print('Top features:', cluster_detail['top_features'])\n",
    "    print('Reviews 파일명:', cluster_detail['filenames'][:7])\n",
    "    print('==================================================')\n"
   ]
  },
  {
   "cell_type": "code",
   "execution_count": 16,
   "metadata": {},
   "outputs": [
    {
     "data": {
      "text/plain": [
       "{0: {'cluster': 0,\n",
       "  'top_features': ['screen',\n",
       "   'battery',\n",
       "   'battery life',\n",
       "   'keyboard',\n",
       "   'kindle',\n",
       "   'life',\n",
       "   'directions',\n",
       "   'size',\n",
       "   'voice',\n",
       "   'speed'],\n",
       "  'top_features_value': [0.13747445010407186,\n",
       "   0.12055524102848388,\n",
       "   0.06453150787174568,\n",
       "   0.06405202909757723,\n",
       "   0.061187983881947246,\n",
       "   0.06003451608903705,\n",
       "   0.054350874237726034,\n",
       "   0.051096764858376824,\n",
       "   0.04832059420230829,\n",
       "   0.047792614773607696],\n",
       "  'filenames': ['accuracy_garmin_nuvi_255W_gps',\n",
       "   'battery-life_amazon_kindle',\n",
       "   'battery-life_ipod_nano_8gb',\n",
       "   'battery-life_netbook_1005ha',\n",
       "   'buttons_amazon_kindle',\n",
       "   'directions_garmin_nuvi_255W_gps',\n",
       "   'display_garmin_nuvi_255W_gps',\n",
       "   'eyesight-issues_amazon_kindle',\n",
       "   'features_windows7',\n",
       "   'fonts_amazon_kindle',\n",
       "   'keyboard_netbook_1005ha',\n",
       "   'navigation_amazon_kindle',\n",
       "   'performance_netbook_1005ha',\n",
       "   'price_amazon_kindle',\n",
       "   'satellite_garmin_nuvi_255W_gps',\n",
       "   'screen_garmin_nuvi_255W_gps',\n",
       "   'screen_ipod_nano_8gb',\n",
       "   'screen_netbook_1005ha',\n",
       "   'size_asus_netbook_1005ha',\n",
       "   'sound_ipod_nano_8gb',\n",
       "   'speed_garmin_nuvi_255W_gps',\n",
       "   'speed_windows7',\n",
       "   'updates_garmin_nuvi_255W_gps',\n",
       "   'video_ipod_nano_8gb',\n",
       "   'voice_garmin_nuvi_255W_gps']},\n",
       " 1: {'cluster': 1,\n",
       "  'top_features': ['hotel',\n",
       "   'service',\n",
       "   'rooms',\n",
       "   'staff',\n",
       "   'room',\n",
       "   'food',\n",
       "   'location',\n",
       "   'clean',\n",
       "   'bathroom',\n",
       "   'parking'],\n",
       "  'top_features_value': [0.18559627785208022,\n",
       "   0.18325230268661388,\n",
       "   0.16332311339851666,\n",
       "   0.1517351798096255,\n",
       "   0.1472546006464401,\n",
       "   0.12929411245566283,\n",
       "   0.12706871200206282,\n",
       "   0.07179033067450705,\n",
       "   0.06968774441604475,\n",
       "   0.05992338873849498],\n",
       "  'filenames': ['bathroom_bestwestern_hotel_sfo',\n",
       "   'food_holiday_inn_london',\n",
       "   'food_swissotel_chicago',\n",
       "   'free_bestwestern_hotel_sfo',\n",
       "   'location_bestwestern_hotel_sfo',\n",
       "   'location_holiday_inn_london',\n",
       "   'parking_bestwestern_hotel_sfo',\n",
       "   'price_holiday_inn_london',\n",
       "   'rooms_bestwestern_hotel_sfo',\n",
       "   'rooms_swissotel_chicago',\n",
       "   'room_holiday_inn_london',\n",
       "   'service_bestwestern_hotel_sfo',\n",
       "   'service_holiday_inn_london',\n",
       "   'service_swissotel_hotel_chicago',\n",
       "   'staff_bestwestern_hotel_sfo',\n",
       "   'staff_swissotel_chicago']},\n",
       " 2: {'cluster': 2,\n",
       "  'top_features': ['interior',\n",
       "   'mileage',\n",
       "   'seats',\n",
       "   'comfortable',\n",
       "   'gas',\n",
       "   'gas mileage',\n",
       "   'transmission',\n",
       "   'car',\n",
       "   'performance',\n",
       "   'quality'],\n",
       "  'top_features_value': [0.2293823453269803,\n",
       "   0.17798969537246573,\n",
       "   0.15775299811750215,\n",
       "   0.133495207257437,\n",
       "   0.12341216759579021,\n",
       "   0.11712864526426435,\n",
       "   0.10620631652682924,\n",
       "   0.10100256058779888,\n",
       "   0.09788383072660593,\n",
       "   0.0930751568103649],\n",
       "  'filenames': ['comfort_honda_accord_2008',\n",
       "   'comfort_toyota_camry_2007',\n",
       "   'gas_mileage_toyota_camry_2007',\n",
       "   'interior_honda_accord_2008',\n",
       "   'interior_toyota_camry_2007',\n",
       "   'mileage_honda_accord_2008',\n",
       "   'performance_honda_accord_2008',\n",
       "   'quality_toyota_camry_2007',\n",
       "   'seats_honda_accord_2008',\n",
       "   'transmission_toyota_camry_2007']}}"
      ]
     },
     "execution_count": 16,
     "metadata": {},
     "output_type": "execute_result"
    }
   ],
   "source": [
    "cluster_details"
   ]
  },
  {
   "cell_type": "code",
   "execution_count": null,
   "metadata": {},
   "outputs": [],
   "source": []
  }
 ],
 "metadata": {
  "interpreter": {
   "hash": "b3ba2566441a7c06988d0923437866b63cedc61552a5af99d1f4fb67d367b25f"
  },
  "kernelspec": {
   "display_name": "Python 3.8.8 64-bit ('base': conda)",
   "language": "python",
   "name": "python3"
  },
  "language_info": {
   "codemirror_mode": {
    "name": "ipython",
    "version": 3
   },
   "file_extension": ".py",
   "mimetype": "text/x-python",
   "name": "python",
   "nbconvert_exporter": "python",
   "pygments_lexer": "ipython3",
   "version": "3.8.8"
  },
  "orig_nbformat": 4
 },
 "nbformat": 4,
 "nbformat_minor": 2
}
